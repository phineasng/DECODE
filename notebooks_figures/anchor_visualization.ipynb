{
 "cells": [
  {
   "cell_type": "code",
   "execution_count": 1,
   "metadata": {},
   "outputs": [],
   "source": [
    "import os\n",
    "import numpy as np\n",
    "from collections import defaultdict, Counter\n",
    "import matplotlib.pyplot as plt\n",
    "import seaborn as sns\n",
    "from intcr.pipeline.utils import load_data\n",
    "import pandas as pd\n",
    "from intcr.data.tcr_titan import BLOSUM_IDX2KEY \n",
    "from anarci import anarci"
   ]
  },
  {
   "cell_type": "code",
   "execution_count": 2,
   "metadata": {},
   "outputs": [],
   "source": [
    "resultsfolder = '/Users/wbr/Box/Molecular_SysBio/projects/HELICAL/Iliana_papadopoulou/paper/clustering_valid/explanations'"
   ]
  },
  {
   "cell_type": "code",
   "execution_count": 3,
   "metadata": {},
   "outputs": [],
   "source": [
    "anchors = load_data(os.path.join(resultsfolder, 'anchors.pkl'))"
   ]
  },
  {
   "cell_type": "code",
   "execution_count": 4,
   "metadata": {},
   "outputs": [],
   "source": [
    "def to_aa(tcr):\n",
    "    sequence = []\n",
    "    for idx in tcr:\n",
    "        if BLOSUM_IDX2KEY[idx] != '<UNK>' and BLOSUM_IDX2KEY[idx] != '<START>' and BLOSUM_IDX2KEY[idx] != '<STOP>' and BLOSUM_IDX2KEY[idx] != '<PAD>':\n",
    "            sequence.append(BLOSUM_IDX2KEY[idx])\n",
    "    return ''.join(sequence)"
   ]
  },
  {
   "cell_type": "code",
   "execution_count": 5,
   "metadata": {},
   "outputs": [],
   "source": [
    "def align(tcr):\n",
    "    anarci_input = [(\"human1:TRB\", tcr)]\n",
    "    results = anarci(anarci_input, scheme=\"aho\", output=False)\n",
    "    numbering, alignment_details, hit_tables = results\n",
    "    domain_numbering, start_index, end_index = numbering[0][0]\n",
    "    aligned_seq = [tup[1] for tup in domain_numbering]\n",
    "    # All sequences are right padded up to length 148\n",
    "    while len(aligned_seq) < 148:\n",
    "        aligned_seq.append('-')\n",
    "    aligned_seq = ''.join(aligned_seq)\n",
    "\n",
    "    # How were indices shifted?\n",
    "    shift = [-1 for x in range(499-len(tcr))] #shift all the padding to -1\n",
    "    prior_pos = -1\n",
    "    for aa in tcr:\n",
    "        # first aa is at new position 0\n",
    "        while aligned_seq[prior_pos+1] != aa:\n",
    "            prior_pos+=1\n",
    "        shift.append(prior_pos+1)\n",
    "        prior_pos+=1\n",
    "\n",
    "    return aligned_seq, shift"
   ]
  },
  {
   "cell_type": "code",
   "execution_count": 35,
   "metadata": {},
   "outputs": [],
   "source": [
    "REGIONS = {\n",
    "    'FR1': (0,26),\n",
    "    'CDR1': (27,42),\n",
    "    'FR2': (43,50),\n",
    "    'CDR2': (51,81),\n",
    "    'FR3': (82,104),\n",
    "    'CDR3': (105,138),\n",
    "    'FR4': (139,147)\n",
    "}\n",
    "\n",
    "def anchors_per_region(explanation):\n",
    "    regions = REGIONS.keys()\n",
    "    anchors = []\n",
    "    for medoid in explanation.keys():\n",
    "        tcr = explanation[medoid].data['raw']['instance']\n",
    "        rule_positions = explanation[medoid].data['raw']['feature']\n",
    "        aligned_seq, shift = align(to_aa(tcr))\n",
    "        # shift rule positions\n",
    "        shifted_rule_positions = [shift[x] for x in rule_positions]\n",
    "        assert aligned_seq[shifted_rule_positions[0]] == BLOSUM_IDX2KEY[tcr[rule_positions[0]]]\n",
    "        # count nr of anchor rules per region\n",
    "        nr_anchors = []\n",
    "        for (lim_low, lim_high) in REGIONS.values():\n",
    "            rules_in_region = [x for x in shifted_rule_positions if x < lim_high and x > lim_low]\n",
    "            nr_anchors.append(len(rules_in_region))\n",
    "        anchors.append(nr_anchors)\n",
    "    anchors_per_region = [np.sum(np.array(anchors)[:,x]) for x in range(len(regions))]\n",
    "    return regions, anchors_per_region"
   ]
  },
  {
   "cell_type": "code",
   "execution_count": 41,
   "metadata": {},
   "outputs": [
    {
     "data": {
      "text/plain": [
       "[4, 2, 0, 3, 9, 2, 2]"
      ]
     },
     "execution_count": 41,
     "metadata": {},
     "output_type": "execute_result"
    }
   ],
   "source": [
    "binding = 1\n",
    "regions, nr_anchors = anchors_per_region(anchors[binding])\n",
    "nr_anchors"
   ]
  },
  {
   "cell_type": "code",
   "execution_count": 43,
   "metadata": {},
   "outputs": [
    {
     "data": {
      "image/png": "[encoded data removed]",
      "text/plain": [
       "<Figure size 432x288 with 1 Axes>"
      ]
     },
     "metadata": {},
     "output_type": "display_data"
    }
   ],
   "source": [
    "# actual plot\n",
    "sns.set_theme() \n",
    "sns.set_palette(\"colorblind\")\n",
    "fig, ax1 = plt.subplots(1, 1, sharex=True, sharey=False)\n",
    "splot1 = sns.barplot(x=list(regions), y=nr_anchors)\n",
    "splot1.yaxis.grid(True, clip_on=False)     \n",
    "ax1.set_ylabel('Nr Anchor Rules',fontsize=16)\n",
    "ax1.tick_params(labelsize=16)                                     \n",
    "ax1.set_xlabel('TCR Region',fontsize=16)    \n",
    "sns.despine(left=True, bottom=True)       \n",
    "plt.tight_layout()\n",
    "plt.savefig(os.path.join(resultsfolder, 'rules_per_region_'+str(binding)+'.pdf'))"
   ]
  }
 ],
 "metadata": {
  "interpreter": {
   "hash": "4ab1d1dfe8b3703c7b6c3ad36107bf9b0cab8056e4fd072bdabe313da29f2224"
  },
  "kernelspec": {
   "display_name": "Python 3.9.7 64-bit ('interpret_tcr': conda)",
   "language": "python",
   "name": "python3"
  },
  "language_info": {
   "codemirror_mode": {
    "name": "ipython",
    "version": 3
   },
   "file_extension": ".py",
   "mimetype": "text/x-python",
   "name": "python",
   "nbconvert_exporter": "python",
   "pygments_lexer": "ipython3",
   "version": "3.9.7"
  },
  "orig_nbformat": 4
 },
 "nbformat": 4,
 "nbformat_minor": 2
}
